{
 "cells": [
  {
   "cell_type": "markdown",
   "id": "fda83aab-0d2e-412e-a32d-8780ee3423d3",
   "metadata": {
    "id": "fda83aab-0d2e-412e-a32d-8780ee3423d3"
   },
   "source": [
    "### Import Library"
   ]
  },
  {
   "cell_type": "code",
   "execution_count": 1,
   "id": "8336fd24-5856-44b4-abcd-c8b7d755d05b",
   "metadata": {
    "id": "8336fd24-5856-44b4-abcd-c8b7d755d05b"
   },
   "outputs": [],
   "source": [
    "import pandas as pd\n",
    "import numpy as np\n",
    "import matplotlib.pyplot as plt\n",
    "import seaborn as sns\n",
    "import warnings\n",
    "warnings.filterwarnings('ignore')\n",
    "from scipy import stats"
   ]
  },
  {
   "cell_type": "markdown",
   "id": "507435cc",
   "metadata": {},
   "source": [
    "### Load Data"
   ]
  },
  {
   "cell_type": "code",
   "execution_count": 2,
   "id": "8ffc2e9d-587e-4534-a2fd-43ee41f97d46",
   "metadata": {
    "id": "8ffc2e9d-587e-4534-a2fd-43ee41f97d46"
   },
   "outputs": [],
   "source": [
    "df = pd.read_csv('sample_data/online_shoppers_intention.csv')"
   ]
  },
  {
   "cell_type": "code",
   "execution_count": 3,
   "id": "a3wND5fbpRc8",
   "metadata": {
    "colab": {
     "base_uri": "https://localhost:8080/",
     "height": 270
    },
    "executionInfo": {
     "elapsed": 19,
     "status": "ok",
     "timestamp": 1655733567687,
     "user": {
      "displayName": "Marsa Aqil Darmawan",
      "userId": "05244903483681956795"
     },
     "user_tz": -420
    },
    "id": "a3wND5fbpRc8",
    "outputId": "8b7ae22e-76b7-4374-fde8-baec9236343d",
    "scrolled": true
   },
   "outputs": [
    {
     "data": {
      "text/html": [
       "<div>\n",
       "<style scoped>\n",
       "    .dataframe tbody tr th:only-of-type {\n",
       "        vertical-align: middle;\n",
       "    }\n",
       "\n",
       "    .dataframe tbody tr th {\n",
       "        vertical-align: top;\n",
       "    }\n",
       "\n",
       "    .dataframe thead th {\n",
       "        text-align: right;\n",
       "    }\n",
       "</style>\n",
       "<table border=\"1\" class=\"dataframe\">\n",
       "  <thead>\n",
       "    <tr style=\"text-align: right;\">\n",
       "      <th></th>\n",
       "      <th>Administrative</th>\n",
       "      <th>Administrative_Duration</th>\n",
       "      <th>Informational</th>\n",
       "      <th>Informational_Duration</th>\n",
       "      <th>ProductRelated</th>\n",
       "      <th>ProductRelated_Duration</th>\n",
       "      <th>BounceRates</th>\n",
       "      <th>ExitRates</th>\n",
       "      <th>PageValues</th>\n",
       "      <th>SpecialDay</th>\n",
       "      <th>Month</th>\n",
       "      <th>OperatingSystems</th>\n",
       "      <th>Browser</th>\n",
       "      <th>Region</th>\n",
       "      <th>TrafficType</th>\n",
       "      <th>VisitorType</th>\n",
       "      <th>Weekend</th>\n",
       "      <th>Revenue</th>\n",
       "    </tr>\n",
       "  </thead>\n",
       "  <tbody>\n",
       "    <tr>\n",
       "      <th>1719</th>\n",
       "      <td>1</td>\n",
       "      <td>6.0</td>\n",
       "      <td>0</td>\n",
       "      <td>0.0</td>\n",
       "      <td>16</td>\n",
       "      <td>608.833333</td>\n",
       "      <td>0.011765</td>\n",
       "      <td>0.026667</td>\n",
       "      <td>52.700521</td>\n",
       "      <td>0.0</td>\n",
       "      <td>Mar</td>\n",
       "      <td>3</td>\n",
       "      <td>2</td>\n",
       "      <td>1</td>\n",
       "      <td>11</td>\n",
       "      <td>Returning_Visitor</td>\n",
       "      <td>False</td>\n",
       "      <td>True</td>\n",
       "    </tr>\n",
       "    <tr>\n",
       "      <th>3779</th>\n",
       "      <td>5</td>\n",
       "      <td>131.2</td>\n",
       "      <td>3</td>\n",
       "      <td>27.0</td>\n",
       "      <td>21</td>\n",
       "      <td>893.450000</td>\n",
       "      <td>0.017391</td>\n",
       "      <td>0.020652</td>\n",
       "      <td>7.091478</td>\n",
       "      <td>0.0</td>\n",
       "      <td>May</td>\n",
       "      <td>3</td>\n",
       "      <td>2</td>\n",
       "      <td>3</td>\n",
       "      <td>4</td>\n",
       "      <td>Returning_Visitor</td>\n",
       "      <td>True</td>\n",
       "      <td>True</td>\n",
       "    </tr>\n",
       "    <tr>\n",
       "      <th>11025</th>\n",
       "      <td>3</td>\n",
       "      <td>215.0</td>\n",
       "      <td>0</td>\n",
       "      <td>0.0</td>\n",
       "      <td>53</td>\n",
       "      <td>1481.429167</td>\n",
       "      <td>0.001852</td>\n",
       "      <td>0.012346</td>\n",
       "      <td>56.317601</td>\n",
       "      <td>0.0</td>\n",
       "      <td>Nov</td>\n",
       "      <td>1</td>\n",
       "      <td>8</td>\n",
       "      <td>1</td>\n",
       "      <td>11</td>\n",
       "      <td>Returning_Visitor</td>\n",
       "      <td>True</td>\n",
       "      <td>True</td>\n",
       "    </tr>\n",
       "    <tr>\n",
       "      <th>2404</th>\n",
       "      <td>0</td>\n",
       "      <td>0.0</td>\n",
       "      <td>0</td>\n",
       "      <td>0.0</td>\n",
       "      <td>10</td>\n",
       "      <td>196.500000</td>\n",
       "      <td>0.044444</td>\n",
       "      <td>0.066667</td>\n",
       "      <td>0.000000</td>\n",
       "      <td>0.6</td>\n",
       "      <td>May</td>\n",
       "      <td>2</td>\n",
       "      <td>2</td>\n",
       "      <td>1</td>\n",
       "      <td>3</td>\n",
       "      <td>Returning_Visitor</td>\n",
       "      <td>False</td>\n",
       "      <td>False</td>\n",
       "    </tr>\n",
       "    <tr>\n",
       "      <th>11041</th>\n",
       "      <td>0</td>\n",
       "      <td>0.0</td>\n",
       "      <td>1</td>\n",
       "      <td>0.0</td>\n",
       "      <td>77</td>\n",
       "      <td>1266.094048</td>\n",
       "      <td>0.002597</td>\n",
       "      <td>0.023632</td>\n",
       "      <td>0.000000</td>\n",
       "      <td>0.0</td>\n",
       "      <td>Dec</td>\n",
       "      <td>2</td>\n",
       "      <td>2</td>\n",
       "      <td>1</td>\n",
       "      <td>2</td>\n",
       "      <td>Returning_Visitor</td>\n",
       "      <td>False</td>\n",
       "      <td>False</td>\n",
       "    </tr>\n",
       "  </tbody>\n",
       "</table>\n",
       "</div>"
      ],
      "text/plain": [
       "       Administrative  Administrative_Duration  Informational  \\\n",
       "1719                1                      6.0              0   \n",
       "3779                5                    131.2              3   \n",
       "11025               3                    215.0              0   \n",
       "2404                0                      0.0              0   \n",
       "11041               0                      0.0              1   \n",
       "\n",
       "       Informational_Duration  ProductRelated  ProductRelated_Duration  \\\n",
       "1719                      0.0              16               608.833333   \n",
       "3779                     27.0              21               893.450000   \n",
       "11025                     0.0              53              1481.429167   \n",
       "2404                      0.0              10               196.500000   \n",
       "11041                     0.0              77              1266.094048   \n",
       "\n",
       "       BounceRates  ExitRates  PageValues  SpecialDay Month  OperatingSystems  \\\n",
       "1719      0.011765   0.026667   52.700521         0.0   Mar                 3   \n",
       "3779      0.017391   0.020652    7.091478         0.0   May                 3   \n",
       "11025     0.001852   0.012346   56.317601         0.0   Nov                 1   \n",
       "2404      0.044444   0.066667    0.000000         0.6   May                 2   \n",
       "11041     0.002597   0.023632    0.000000         0.0   Dec                 2   \n",
       "\n",
       "       Browser  Region  TrafficType        VisitorType  Weekend  Revenue  \n",
       "1719         2       1           11  Returning_Visitor    False     True  \n",
       "3779         2       3            4  Returning_Visitor     True     True  \n",
       "11025        8       1           11  Returning_Visitor     True     True  \n",
       "2404         2       1            3  Returning_Visitor    False    False  \n",
       "11041        2       1            2  Returning_Visitor    False    False  "
      ]
     },
     "execution_count": 3,
     "metadata": {},
     "output_type": "execute_result"
    }
   ],
   "source": [
    "df.sample(5)"
   ]
  },
  {
   "cell_type": "markdown",
   "id": "4539ecf7",
   "metadata": {},
   "source": [
    "### Duplicated Handling"
   ]
  },
  {
   "cell_type": "code",
   "execution_count": 4,
   "id": "ee6515c8-f63b-4b2d-ab05-789eec995e93",
   "metadata": {
    "colab": {
     "base_uri": "https://localhost:8080/"
    },
    "executionInfo": {
     "elapsed": 17,
     "status": "ok",
     "timestamp": 1655733567688,
     "user": {
      "displayName": "Marsa Aqil Darmawan",
      "userId": "05244903483681956795"
     },
     "user_tz": -420
    },
    "id": "ee6515c8-f63b-4b2d-ab05-789eec995e93",
    "outputId": "7576208a-4f3e-400b-d01d-f512930a463b"
   },
   "outputs": [
    {
     "data": {
      "text/plain": [
       "125"
      ]
     },
     "execution_count": 4,
     "metadata": {},
     "output_type": "execute_result"
    }
   ],
   "source": [
    "df.duplicated().sum()"
   ]
  },
  {
   "cell_type": "code",
   "execution_count": 5,
   "id": "69fb49e5-6d27-4bf3-9cdf-b2b4e69cf681",
   "metadata": {
    "colab": {
     "base_uri": "https://localhost:8080/"
    },
    "executionInfo": {
     "elapsed": 13,
     "status": "ok",
     "timestamp": 1655733567688,
     "user": {
      "displayName": "Marsa Aqil Darmawan",
      "userId": "05244903483681956795"
     },
     "user_tz": -420
    },
    "id": "69fb49e5-6d27-4bf3-9cdf-b2b4e69cf681",
    "outputId": "049348d1-9092-47a9-b8ef-86e080ac4cba"
   },
   "outputs": [
    {
     "data": {
      "text/plain": [
       "0"
      ]
     },
     "execution_count": 5,
     "metadata": {},
     "output_type": "execute_result"
    }
   ],
   "source": [
    "df.drop_duplicates(inplace = True)\n",
    "df.duplicated().sum()"
   ]
  },
  {
   "cell_type": "code",
   "execution_count": 6,
   "id": "PabhfCHBpcbJ",
   "metadata": {
    "id": "PabhfCHBpcbJ"
   },
   "outputs": [],
   "source": [
    "nums = ['Administrative',\n",
    "        'Administrative_Duration',\n",
    "        'Informational',\n",
    "        'Informational_Duration',\n",
    "        'ProductRelated',\n",
    "        'ProductRelated_Duration',\n",
    "        'BounceRates',\n",
    "        'ExitRates',\n",
    "        'PageValues',\n",
    "        'SpecialDay']\n",
    "\n",
    "nums2 = ['Administrative',\n",
    "        'Administrative_Duration',\n",
    "        'Informational',\n",
    "        'Informational_Duration',\n",
    "        'ProductRelated',\n",
    "        'ProductRelated_Duration',\n",
    "        'ExitRates',\n",
    "        'PageValues',\n",
    "         'SpecialDay']"
   ]
  },
  {
   "cell_type": "markdown",
   "id": "af708878",
   "metadata": {},
   "source": [
    "### Outliers Handling"
   ]
  },
  {
   "cell_type": "code",
   "execution_count": 7,
   "id": "EqiaVoY1pmWI",
   "metadata": {
    "colab": {
     "base_uri": "https://localhost:8080/"
    },
    "executionInfo": {
     "elapsed": 12,
     "status": "ok",
     "timestamp": 1655733567689,
     "user": {
      "displayName": "Marsa Aqil Darmawan",
      "userId": "05244903483681956795"
     },
     "user_tz": -420
    },
    "id": "EqiaVoY1pmWI",
    "outputId": "b868fdd3-59ea-4722-d110-851d84c6d4cc"
   },
   "outputs": [
    {
     "name": "stdout",
     "output_type": "stream",
     "text": [
      "Jumlah baris sebelum memfilter outlier: 12205\n",
      "Jumlah baris setelah memfilter outlier: 10020\n"
     ]
    }
   ],
   "source": [
    "# Run onces!\n",
    "from scipy import stats\n",
    "\n",
    "print(f'Jumlah baris sebelum memfilter outlier: {len(df)}')\n",
    "\n",
    "filtered_entries = np.array([True] * len(df))\n",
    "\n",
    "for col in nums:\n",
    "    zscore = abs(stats.zscore(df[col])) \n",
    "    filtered_entries = (zscore < 3) & filtered_entries\n",
    "    \n",
    "df = df[filtered_entries]\n",
    "\n",
    "print(f'Jumlah baris setelah memfilter outlier: {len(df)}')"
   ]
  },
  {
   "cell_type": "markdown",
   "id": "692d22b3-8ab9-4460-abeb-824a08114a10",
   "metadata": {
    "id": "692d22b3-8ab9-4460-abeb-824a08114a10"
   },
   "source": [
    "### Split Train-Test Data"
   ]
  },
  {
   "cell_type": "code",
   "execution_count": 8,
   "id": "8f9843c5-c57c-48ae-aedd-f3c801b8a357",
   "metadata": {
    "colab": {
     "base_uri": "https://localhost:8080/"
    },
    "executionInfo": {
     "elapsed": 356,
     "status": "ok",
     "timestamp": 1655733568035,
     "user": {
      "displayName": "Marsa Aqil Darmawan",
      "userId": "05244903483681956795"
     },
     "user_tz": -420
    },
    "id": "8f9843c5-c57c-48ae-aedd-f3c801b8a357",
    "outputId": "2e1c74fe-443f-4600-be62-021f289bda71"
   },
   "outputs": [
    {
     "name": "stdout",
     "output_type": "stream",
     "text": [
      "7014\n",
      "3006\n"
     ]
    }
   ],
   "source": [
    "from sklearn.model_selection import train_test_split\n",
    "x = df.drop(['Revenue','BounceRates','OperatingSystems','Browser','Region','TrafficType','Weekend'], axis=1)\n",
    "y = df[['Revenue']]\n",
    "x_train, x_test, y_train, y_test= train_test_split(x,y,test_size=0.3,random_state=42)\n",
    "\n",
    "print (len(x_train))\n",
    "print (len(x_test))"
   ]
  },
  {
   "cell_type": "code",
   "execution_count": 9,
   "id": "284dcbf0-9a06-470f-9139-af172519a7c8",
   "metadata": {
    "colab": {
     "base_uri": "https://localhost:8080/"
    },
    "executionInfo": {
     "elapsed": 15,
     "status": "ok",
     "timestamp": 1655733568036,
     "user": {
      "displayName": "Marsa Aqil Darmawan",
      "userId": "05244903483681956795"
     },
     "user_tz": -420
    },
    "id": "284dcbf0-9a06-470f-9139-af172519a7c8",
    "outputId": "0cf22451-24d6-4f91-bf2f-9f10cc343d6e",
    "scrolled": true
   },
   "outputs": [
    {
     "data": {
      "text/plain": [
       "Revenue\n",
       "False      5990\n",
       "True       1024\n",
       "dtype: int64"
      ]
     },
     "execution_count": 9,
     "metadata": {},
     "output_type": "execute_result"
    }
   ],
   "source": [
    "y_train.value_counts()"
   ]
  },
  {
   "cell_type": "markdown",
   "id": "fd2bb5e9",
   "metadata": {},
   "source": [
    "### Feature Transformation"
   ]
  },
  {
   "cell_type": "code",
   "execution_count": 10,
   "id": "b2b8f4ce-4053-41ca-8e2b-c6c634857af3",
   "metadata": {
    "id": "b2b8f4ce-4053-41ca-8e2b-c6c634857af3"
   },
   "outputs": [],
   "source": [
    "#for i in range(0, len(nums)):\n",
    " #   x_train[nums[i]] = np.log(x_train[nums[i]] + 1)"
   ]
  },
  {
   "cell_type": "code",
   "execution_count": 11,
   "id": "aa0c519f-a5bc-470d-85ef-73bf6e45492d",
   "metadata": {
    "id": "aa0c519f-a5bc-470d-85ef-73bf6e45492d"
   },
   "outputs": [],
   "source": [
    "#for i in range(0, len(nums)):\n",
    "#    x_test[nums[i]] = np.log(x_test[nums[i]] + 1)"
   ]
  },
  {
   "cell_type": "code",
   "execution_count": 12,
   "id": "06bbddd1-d693-4508-b944-322d3e826ee0",
   "metadata": {
    "id": "06bbddd1-d693-4508-b944-322d3e826ee0"
   },
   "outputs": [],
   "source": [
    "from sklearn.preprocessing import StandardScaler, RobustScaler, PowerTransformer\n",
    "for i in range(0, len(nums2)):\n",
    "    x_train[nums2[i]] = StandardScaler().fit_transform(x_train[nums2[i]].values.reshape(len(x_train[nums2[i]]), 1))"
   ]
  },
  {
   "cell_type": "code",
   "execution_count": 13,
   "id": "c7bb64cc-f7c5-4b5b-a7cb-968f44ea09d3",
   "metadata": {
    "id": "c7bb64cc-f7c5-4b5b-a7cb-968f44ea09d3"
   },
   "outputs": [],
   "source": [
    "from sklearn.preprocessing import StandardScaler, RobustScaler, PowerTransformer\n",
    "for i in range(0, len(nums2)):\n",
    "    x_test[nums2[i]] = StandardScaler().fit_transform(x_test[nums2[i]].values.reshape(len(x_test[nums2[i]]), 1))"
   ]
  },
  {
   "cell_type": "markdown",
   "id": "ac9d856b",
   "metadata": {},
   "source": [
    "### Feature Encoding"
   ]
  },
  {
   "cell_type": "code",
   "execution_count": 14,
   "id": "0080f605-c716-41e2-bc0b-2752b47d6f79",
   "metadata": {
    "id": "0080f605-c716-41e2-bc0b-2752b47d6f79"
   },
   "outputs": [],
   "source": [
    "#weekend_mapping = {\n",
    " #  False: 0,\n",
    "  #  True: 1\n",
    "#}\n",
    "\n",
    "revenue_mapping = {\n",
    "    False: 0,\n",
    "    True: 1\n",
    "}"
   ]
  },
  {
   "cell_type": "code",
   "execution_count": 15,
   "id": "939b35c5-0550-4edb-8826-d6af15c60a62",
   "metadata": {
    "id": "939b35c5-0550-4edb-8826-d6af15c60a62"
   },
   "outputs": [],
   "source": [
    "y_train['Revenue'] = y_train['Revenue'].map(revenue_mapping)\n",
    "y_test['Revenue'] = y_test['Revenue'].map(revenue_mapping)\n",
    "\n",
    "#x_train['Weekend'] = x_train['Weekend'].map(weekend_mapping)\n",
    "#x_test['Weekend'] = x_test['Weekend'].map(weekend_mapping)\n"
   ]
  },
  {
   "cell_type": "code",
   "execution_count": 16,
   "id": "d6738f46-1a73-4e6f-87da-041c3b43dc6c",
   "metadata": {
    "id": "d6738f46-1a73-4e6f-87da-041c3b43dc6c"
   },
   "outputs": [],
   "source": [
    "x_train = pd.get_dummies(data=x_train, \n",
    "                    columns=['Month','VisitorType'], \n",
    "                    drop_first=True)"
   ]
  },
  {
   "cell_type": "code",
   "execution_count": 17,
   "id": "be6034d5-8f13-4ea8-a510-805a9e560acc",
   "metadata": {
    "id": "be6034d5-8f13-4ea8-a510-805a9e560acc"
   },
   "outputs": [],
   "source": [
    "x_test = pd.get_dummies(data=x_test, \n",
    "                    columns=['Month','VisitorType'], \n",
    "                    drop_first=True)"
   ]
  },
  {
   "cell_type": "markdown",
   "id": "7ae81afb-f6b5-473d-bfc1-37824df43e4c",
   "metadata": {
    "id": "7ae81afb-f6b5-473d-bfc1-37824df43e4c"
   },
   "source": [
    "### Imbalanced Handling"
   ]
  },
  {
   "cell_type": "code",
   "execution_count": 18,
   "id": "c6f8269d-c07c-4425-aa85-07ec58f4698a",
   "metadata": {
    "id": "c6f8269d-c07c-4425-aa85-07ec58f4698a"
   },
   "outputs": [],
   "source": [
    "from imblearn import under_sampling, over_sampling\n",
    "from imblearn.over_sampling import SMOTE\n",
    "smote = SMOTE(random_state=42)\n",
    "x_train_SMOTE, y_train_SMOTE= smote.fit_resample(x_train, y_train)"
   ]
  },
  {
   "cell_type": "code",
   "execution_count": 19,
   "id": "310766d4-e469-48d5-8279-ed76c66c0e3e",
   "metadata": {
    "colab": {
     "base_uri": "https://localhost:8080/"
    },
    "executionInfo": {
     "elapsed": 10,
     "status": "ok",
     "timestamp": 1655733568876,
     "user": {
      "displayName": "Marsa Aqil Darmawan",
      "userId": "05244903483681956795"
     },
     "user_tz": -420
    },
    "id": "310766d4-e469-48d5-8279-ed76c66c0e3e",
    "outputId": "0ccda610-5edf-4bcd-f41d-74a4702ccadf"
   },
   "outputs": [
    {
     "name": "stdout",
     "output_type": "stream",
     "text": [
      "<class 'pandas.core.frame.DataFrame'>\n",
      "RangeIndex: 11980 entries, 0 to 11979\n",
      "Data columns (total 1 columns):\n",
      " #   Column   Non-Null Count  Dtype\n",
      "---  ------   --------------  -----\n",
      " 0   Revenue  11980 non-null  int64\n",
      "dtypes: int64(1)\n",
      "memory usage: 93.7 KB\n"
     ]
    }
   ],
   "source": [
    "y_train_SMOTE.info()"
   ]
  },
  {
   "cell_type": "markdown",
   "id": "6d404c01-66ce-4119-8a70-d9bf0db6deab",
   "metadata": {
    "id": "6d404c01-66ce-4119-8a70-d9bf0db6deab"
   },
   "source": [
    "### Modeling dan Evaluation"
   ]
  },
  {
   "cell_type": "code",
   "execution_count": 20,
   "id": "eba3f494-6216-4777-af5d-50b091b5116c",
   "metadata": {
    "id": "eba3f494-6216-4777-af5d-50b091b5116c"
   },
   "outputs": [],
   "source": [
    "from sklearn.metrics import accuracy_score, precision_score, recall_score, f1_score, roc_auc_score\n",
    "\n",
    "def eval_classification(model, xtrain, ytrain, xtest, ytest):\n",
    "    y_pred_train = model.predict(xtrain)\n",
    "    ypred = model.predict(xtest)\n",
    "    print(\"Accuracy (Train Set): %.2f\" % accuracy_score(ytrain, y_pred_train))\n",
    "    print(\"Accuracy (Test Set): %.2f\" % accuracy_score(ytest, ypred))\n",
    "    print(\"Precision (Train Set): %.2f\" % precision_score(ytrain, y_pred_train))\n",
    "    print(\"Precision (Test Set): %.2f\" % precision_score(ytest, ypred))\n",
    "    print(\"Recall (Train Set): %.2f\" % recall_score(ytrain, y_pred_train))\n",
    "    print(\"Recall (Test Set): %.2f\" % recall_score(ytest, ypred))\n",
    "    print(\"F1-Score (Train Set): %.2f\" % f1_score(ytrain, y_pred_train))\n",
    "    print(\"F1-Score (Test Set): %.2f\" % f1_score(ytest, ypred))\n",
    "    \n",
    "    y_pred_proba1 = model.predict_proba(xtrain)\n",
    "    print(\"AUC Train: %.2f\" % roc_auc_score(ytrain, y_pred_proba1[:, 1]))\n",
    "    y_pred_proba2 = model.predict_proba(xtest)\n",
    "    print(\"AUC Test: %.2f\" % roc_auc_score(ytest, y_pred_proba2[:, 1]))\n",
    "    \n",
    "\n",
    "def show_feature_importance(model):\n",
    "    feat_importances = pd.Series(model.feature_importances_, index=X.columns)\n",
    "    ax = feat_importances.nlargest(25).plot(kind='barh', figsize=(10, 8))\n",
    "    ax.invert_yaxis()\n",
    "\n",
    "    plt.xlabel('score')\n",
    "    plt.ylabel('feature')\n",
    "    plt.title('feature importance score')\n",
    "\n",
    "def show_best_hyperparameter(model, hyperparameters):\n",
    "    for key, value in hyperparameters.items() :\n",
    "        print('Best '+key+':', model.get_params()[key])"
   ]
  },
  {
   "cell_type": "markdown",
   "id": "70096ea6-ad70-4f9d-8fd2-65be664756ab",
   "metadata": {
    "id": "70096ea6-ad70-4f9d-8fd2-65be664756ab"
   },
   "source": [
    "#### 1. Logistic Regression"
   ]
  },
  {
   "cell_type": "code",
   "execution_count": 21,
   "id": "df785364-47c3-415a-b887-39feaa678ee4",
   "metadata": {
    "colab": {
     "base_uri": "https://localhost:8080/"
    },
    "executionInfo": {
     "elapsed": 408,
     "status": "ok",
     "timestamp": 1655733569278,
     "user": {
      "displayName": "Marsa Aqil Darmawan",
      "userId": "05244903483681956795"
     },
     "user_tz": -420
    },
    "id": "df785364-47c3-415a-b887-39feaa678ee4",
    "outputId": "6e39f10d-b10c-4263-909e-e5fe3a1fdc26"
   },
   "outputs": [
    {
     "data": {
      "text/plain": [
       "LogisticRegression(random_state=42)"
      ]
     },
     "execution_count": 21,
     "metadata": {},
     "output_type": "execute_result"
    }
   ],
   "source": [
    "from sklearn.linear_model import LogisticRegression\n",
    "model = LogisticRegression(random_state=42)\n",
    "model.fit(x_train_SMOTE, y_train_SMOTE)"
   ]
  },
  {
   "cell_type": "code",
   "execution_count": 22,
   "id": "1d1f0e45-641b-4c09-854b-f8c7f369ba91",
   "metadata": {
    "colab": {
     "base_uri": "https://localhost:8080/"
    },
    "executionInfo": {
     "elapsed": 21,
     "status": "ok",
     "timestamp": 1655733569281,
     "user": {
      "displayName": "Marsa Aqil Darmawan",
      "userId": "05244903483681956795"
     },
     "user_tz": -420
    },
    "id": "1d1f0e45-641b-4c09-854b-f8c7f369ba91",
    "outputId": "1bc44fea-3588-43f4-b904-87b8380934e5"
   },
   "outputs": [
    {
     "name": "stdout",
     "output_type": "stream",
     "text": [
      "0.7886532807621304\n",
      "0.8392320534223707\n"
     ]
    }
   ],
   "source": [
    "from sklearn.metrics import roc_auc_score\n",
    "y_pred = model.predict(x_test)\n",
    "print(roc_auc_score(y_test, y_pred))\n",
    "\n",
    "y_pred_train = model.predict(x_train_SMOTE)\n",
    "print(roc_auc_score(y_train_SMOTE, y_pred_train))"
   ]
  },
  {
   "cell_type": "code",
   "execution_count": 23,
   "id": "7a8bb1db-2bfc-48e4-8cde-0a63fe0ba404",
   "metadata": {
    "colab": {
     "base_uri": "https://localhost:8080/"
    },
    "executionInfo": {
     "elapsed": 17,
     "status": "ok",
     "timestamp": 1655733569284,
     "user": {
      "displayName": "Marsa Aqil Darmawan",
      "userId": "05244903483681956795"
     },
     "user_tz": -420
    },
    "id": "7a8bb1db-2bfc-48e4-8cde-0a63fe0ba404",
    "outputId": "801cae90-aa95-4dc4-c97f-eca73246d7b4"
   },
   "outputs": [
    {
     "name": "stdout",
     "output_type": "stream",
     "text": [
      "Accuracy (Train Set): 0.84\n",
      "Accuracy (Test Set): 0.84\n",
      "Precision (Train Set): 0.86\n",
      "Precision (Test Set): 0.47\n",
      "Recall (Train Set): 0.80\n",
      "Recall (Test Set): 0.71\n",
      "F1-Score (Train Set): 0.83\n",
      "F1-Score (Test Set): 0.56\n",
      "AUC Train: 0.92\n",
      "AUC Test: 0.88\n"
     ]
    }
   ],
   "source": [
    "eval_classification(model, x_train_SMOTE, y_train_SMOTE, x_test, y_test)"
   ]
  },
  {
   "cell_type": "code",
   "execution_count": 49,
   "id": "0885bbc4-f0db-4843-973e-fb3273a40f82",
   "metadata": {
    "colab": {
     "base_uri": "https://localhost:8080/"
    },
    "executionInfo": {
     "elapsed": 1055,
     "status": "ok",
     "timestamp": 1655733570329,
     "user": {
      "displayName": "Marsa Aqil Darmawan",
      "userId": "05244903483681956795"
     },
     "user_tz": -420
    },
    "id": "0885bbc4-f0db-4843-973e-fb3273a40f82",
    "outputId": "ebaa6363-93ca-4b17-d863-b25e788a0201"
   },
   "outputs": [
    {
     "name": "stdout",
     "output_type": "stream",
     "text": [
      "Accuracy (Train Set): 0.82\n",
      "Accuracy (Test Set): 0.87\n",
      "Precision (Train Set): 0.88\n",
      "Precision (Test Set): 0.53\n",
      "Recall (Train Set): 0.74\n",
      "Recall (Test Set): 0.72\n",
      "F1-Score (Train Set): 0.81\n",
      "F1-Score (Test Set): 0.61\n",
      "AUC Train: 0.90\n",
      "AUC Test: 0.88\n"
     ]
    }
   ],
   "source": [
    "from sklearn.model_selection import RandomizedSearchCV, GridSearchCV\n",
    "\n",
    "# List Hyperparameters yang akan diuji\n",
    "penalty = ['l2','l1','elasticnet']\n",
    "C = [0.0001, 0.001, 0.002] # Inverse of regularization strength; smaller values specify stronger regularization.\n",
    "hyperparameters = dict(penalty=penalty, C=C)\n",
    "\n",
    "# Inisiasi model\n",
    "logres = LogisticRegression(random_state=42) # Init Logres dengan Gridsearch, cross validation = 5\n",
    "model = RandomizedSearchCV(logres, hyperparameters, cv=5, random_state=42, scoring='roc_auc')\n",
    "\n",
    "# Fitting Model & Evaluation\n",
    "model.fit(x_train_SMOTE, y_train_SMOTE)\n",
    "y_pred = model.predict(x_test)\n",
    "eval_classification(model, x_train_SMOTE, y_train_SMOTE, x_test, y_test)"
   ]
  },
  {
   "cell_type": "code",
   "execution_count": 50,
   "id": "495a51d0-4b8d-4bf0-8c5c-0827cb1b6788",
   "metadata": {
    "colab": {
     "base_uri": "https://localhost:8080/"
    },
    "executionInfo": {
     "elapsed": 13,
     "status": "ok",
     "timestamp": 1655733570331,
     "user": {
      "displayName": "Marsa Aqil Darmawan",
      "userId": "05244903483681956795"
     },
     "user_tz": -420
    },
    "id": "495a51d0-4b8d-4bf0-8c5c-0827cb1b6788",
    "outputId": "8a2b11ce-ed28-493f-c6e3-f8aefc98e0dc"
   },
   "outputs": [
    {
     "name": "stdout",
     "output_type": "stream",
     "text": [
      "Best penalty: l2\n",
      "Best C: 0.002\n"
     ]
    }
   ],
   "source": [
    "print('Best penalty:', model.best_estimator_.get_params()['penalty'])\n",
    "print('Best C:', model.best_estimator_.get_params()['C'])"
   ]
  },
  {
   "cell_type": "markdown",
   "id": "a6f50c1e-ed74-459c-bf2c-1e320b6ddca5",
   "metadata": {
    "id": "a6f50c1e-ed74-459c-bf2c-1e320b6ddca5"
   },
   "source": [
    "#### 2. Decision Tree Classifier"
   ]
  },
  {
   "cell_type": "code",
   "execution_count": 51,
   "id": "9915891f-5748-459e-b7f3-d9f6f3bb541c",
   "metadata": {
    "colab": {
     "base_uri": "https://localhost:8080/"
    },
    "executionInfo": {
     "elapsed": 9,
     "status": "ok",
     "timestamp": 1655733570849,
     "user": {
      "displayName": "Marsa Aqil Darmawan",
      "userId": "05244903483681956795"
     },
     "user_tz": -420
    },
    "id": "9915891f-5748-459e-b7f3-d9f6f3bb541c",
    "outputId": "cb33205b-4c12-4dc4-ffa6-b04025e896ec"
   },
   "outputs": [
    {
     "name": "stdout",
     "output_type": "stream",
     "text": [
      "Accuracy (Train Set): 1.00\n",
      "Accuracy (Test Set): 0.82\n",
      "Precision (Train Set): 1.00\n",
      "Precision (Test Set): 0.41\n",
      "Recall (Train Set): 1.00\n",
      "Recall (Test Set): 0.69\n",
      "F1-Score (Train Set): 1.00\n",
      "F1-Score (Test Set): 0.52\n",
      "AUC Train: 1.00\n",
      "AUC Test: 0.77\n"
     ]
    }
   ],
   "source": [
    "from sklearn.tree import DecisionTreeClassifier\n",
    "dtc = DecisionTreeClassifier(random_state=42)\n",
    "dtc.fit(x_train_SMOTE,y_train_SMOTE)\n",
    "\n",
    "y_pred = dtc.predict(x_test)\n",
    "eval_classification(dtc, x_train_SMOTE, y_train_SMOTE, x_test, y_test)"
   ]
  },
  {
   "cell_type": "code",
   "execution_count": 52,
   "id": "c9254e46-17fd-4f0a-99d0-d21a09bf6481",
   "metadata": {
    "colab": {
     "base_uri": "https://localhost:8080/"
    },
    "executionInfo": {
     "elapsed": 1553,
     "status": "ok",
     "timestamp": 1655733572398,
     "user": {
      "displayName": "Marsa Aqil Darmawan",
      "userId": "05244903483681956795"
     },
     "user_tz": -420
    },
    "id": "c9254e46-17fd-4f0a-99d0-d21a09bf6481",
    "outputId": "18ce13e9-d30b-4014-bb08-632beff48353"
   },
   "outputs": [
    {
     "name": "stdout",
     "output_type": "stream",
     "text": [
      "Accuracy (Train Set): 0.87\n",
      "Accuracy (Test Set): 0.83\n",
      "Precision (Train Set): 0.87\n",
      "Precision (Test Set): 0.43\n",
      "Recall (Train Set): 0.87\n",
      "Recall (Test Set): 0.74\n",
      "F1-Score (Train Set): 0.87\n",
      "F1-Score (Test Set): 0.55\n",
      "AUC Train: 0.95\n",
      "AUC Test: 0.87\n"
     ]
    }
   ],
   "source": [
    "# Tuning 1\n",
    "from sklearn.model_selection import RandomizedSearchCV\n",
    "from scipy.stats import uniform\n",
    "import numpy as np\n",
    "\n",
    "# List of hyperparameter\n",
    "max_depth = [int(x) for x in np.linspace(1, 110, num = 30)] # Maximum number of levels in tree\n",
    "min_samples_split = [2, 5, 10, 100] # Minimum number of samples required to split a node\n",
    "min_samples_leaf = [1, 2, 4, 10, 20, 50] # Minimum number of samples required at each leaf node\n",
    "max_features = ['auto', 'sqrt'] # Number of features to consider at every split\n",
    "\n",
    "hyperparameters = dict(max_depth=max_depth, \n",
    "                       min_samples_split=min_samples_split, \n",
    "                       min_samples_leaf=min_samples_leaf,\n",
    "                       max_features=max_features\n",
    "                      )\n",
    "\n",
    "# Inisialisasi Model\n",
    "dtc = DecisionTreeClassifier(random_state=42)\n",
    "dtc_rs = RandomizedSearchCV(dt, hyperparameters, cv=5, random_state=42, scoring='roc_auc')\n",
    "dtc_rs.fit(x_train_SMOTE, y_train_SMOTE)\n",
    "\n",
    "# Predict & Evaluation\n",
    "y_pred = dtc_rs.predict(x_test)#Check performa dari model\n",
    "eval_classification(dtc_rs, x_train_SMOTE, y_train_SMOTE, x_test, y_test)"
   ]
  },
  {
   "cell_type": "code",
   "execution_count": 53,
   "id": "465a3c3d-dcc4-44dc-9983-579a8d97fe7b",
   "metadata": {
    "colab": {
     "base_uri": "https://localhost:8080/"
    },
    "executionInfo": {
     "elapsed": 9,
     "status": "ok",
     "timestamp": 1655733572398,
     "user": {
      "displayName": "Marsa Aqil Darmawan",
      "userId": "05244903483681956795"
     },
     "user_tz": -420
    },
    "id": "465a3c3d-dcc4-44dc-9983-579a8d97fe7b",
    "outputId": "97161e29-ae90-4024-ca90-d3ba7ae1266f",
    "scrolled": true
   },
   "outputs": [
    {
     "name": "stdout",
     "output_type": "stream",
     "text": [
      "Best max_depth: 23\n",
      "Best min_samples_split: 10\n",
      "Best min_samples_leaf: 20\n",
      "Best max_features: sqrt\n"
     ]
    }
   ],
   "source": [
    "print('Best max_depth:', dtc_rs.best_estimator_.get_params()['max_depth'])\n",
    "print('Best min_samples_split:', dtc_rs.best_estimator_.get_params()['min_samples_split'])\n",
    "print('Best min_samples_leaf:', dtc_rs.best_estimator_.get_params()['min_samples_leaf'])\n",
    "print('Best max_features:', dtc_rs.best_estimator_.get_params()['max_features'])"
   ]
  },
  {
   "cell_type": "code",
   "execution_count": 54,
   "id": "01ac0e79-bf4b-4b10-8139-0f017f2adaa4",
   "metadata": {
    "colab": {
     "base_uri": "https://localhost:8080/"
    },
    "executionInfo": {
     "elapsed": 1332,
     "status": "ok",
     "timestamp": 1655733573727,
     "user": {
      "displayName": "Marsa Aqil Darmawan",
      "userId": "05244903483681956795"
     },
     "user_tz": -420
    },
    "id": "01ac0e79-bf4b-4b10-8139-0f017f2adaa4",
    "outputId": "11ebd268-41b2-4020-f394-dcfda833c776"
   },
   "outputs": [
    {
     "name": "stdout",
     "output_type": "stream",
     "text": [
      "Accuracy (Train Set): 0.87\n",
      "Accuracy (Test Set): 0.83\n",
      "Precision (Train Set): 0.87\n",
      "Precision (Test Set): 0.43\n",
      "Recall (Train Set): 0.87\n",
      "Recall (Test Set): 0.74\n",
      "F1-Score (Train Set): 0.87\n",
      "F1-Score (Test Set): 0.55\n",
      "AUC Train: 0.95\n",
      "AUC Test: 0.87\n"
     ]
    }
   ],
   "source": [
    "# Tuning 2\n",
    "# List of hyperparameter\n",
    "max_depth = [int(x) for x in np.linspace(1, 110, num = 30)] # Maximum number of levels in tree\n",
    "min_samples_split = [2, 5, 10, 100] # Minimum number of samples required to split a node\n",
    "min_samples_leaf = [1, 2, 4, 10, 20, 50] # Minimum number of samples required at each leaf node\n",
    "max_features = ['auto', 'sqrt'] # Number of features to consider at every split\n",
    "\n",
    "\n",
    "hyperparameters = dict(max_depth=max_depth, \n",
    "                       min_samples_split=min_samples_split, \n",
    "                       min_samples_leaf=min_samples_leaf,\n",
    "                       max_features=max_features\n",
    "                      )\n",
    "\n",
    "# Inisialisasi Model\n",
    "dtc = DecisionTreeClassifier(random_state=42, class_weight={0:0.02,1:0.98})\n",
    "dtc_rs = RandomizedSearchCV(dt, hyperparameters, cv=5, random_state=42, scoring='roc_auc')\n",
    "dtc_rs.fit(x_train_SMOTE, y_train_SMOTE)\n",
    "\n",
    "# Predict & Evaluation\n",
    "y_pred = dtc_rs.predict(x_test)#Check performa dari model\n",
    "eval_classification(dtc_rs, x_train_SMOTE, y_train_SMOTE, x_test, y_test)"
   ]
  },
  {
   "cell_type": "markdown",
   "id": "951af486-b20a-44f6-840c-eb58cff57936",
   "metadata": {
    "id": "951af486-b20a-44f6-840c-eb58cff57936"
   },
   "source": [
    "#### 3. K-Neighbors Classifier"
   ]
  },
  {
   "cell_type": "code",
   "execution_count": 55,
   "id": "715add91-3956-4735-92bc-f4fd44641bb0",
   "metadata": {
    "colab": {
     "base_uri": "https://localhost:8080/"
    },
    "executionInfo": {
     "elapsed": 7286,
     "status": "ok",
     "timestamp": 1655733581688,
     "user": {
      "displayName": "Marsa Aqil Darmawan",
      "userId": "05244903483681956795"
     },
     "user_tz": -420
    },
    "id": "715add91-3956-4735-92bc-f4fd44641bb0",
    "outputId": "d9162847-5d6e-4619-f616-0a13003e1ea9"
   },
   "outputs": [
    {
     "name": "stdout",
     "output_type": "stream",
     "text": [
      "Accuracy (Train Set): 0.92\n",
      "Accuracy (Test Set): 0.80\n",
      "Precision (Train Set): 0.87\n",
      "Precision (Test Set): 0.39\n",
      "Recall (Train Set): 0.98\n",
      "Recall (Test Set): 0.73\n",
      "F1-Score (Train Set): 0.93\n",
      "F1-Score (Test Set): 0.51\n",
      "AUC Train: 0.99\n",
      "AUC Test: 0.84\n"
     ]
    }
   ],
   "source": [
    "from sklearn.neighbors import KNeighborsClassifier\n",
    "model = KNeighborsClassifier()\n",
    "model.fit(x_train_SMOTE,y_train_SMOTE)\n",
    "\n",
    "\n",
    "y_pred = model.predict(x_test)\n",
    "eval_classification(model, x_train_SMOTE, y_train_SMOTE, x_test, y_test)"
   ]
  },
  {
   "cell_type": "code",
   "execution_count": 56,
   "id": "167306be-2ce9-471b-acba-2ee547d1662a",
   "metadata": {
    "colab": {
     "base_uri": "https://localhost:8080/"
    },
    "executionInfo": {
     "elapsed": 35550,
     "status": "ok",
     "timestamp": 1655733620358,
     "user": {
      "displayName": "Marsa Aqil Darmawan",
      "userId": "05244903483681956795"
     },
     "user_tz": -420
    },
    "id": "167306be-2ce9-471b-acba-2ee547d1662a",
    "outputId": "e590266d-9f4f-400c-e487-3a787bf26835"
   },
   "outputs": [
    {
     "name": "stdout",
     "output_type": "stream",
     "text": [
      "Accuracy (Train Set): 0.93\n",
      "Accuracy (Test Set): 0.83\n",
      "Precision (Train Set): 0.89\n",
      "Precision (Test Set): 0.43\n",
      "Recall (Train Set): 0.99\n",
      "Recall (Test Set): 0.74\n",
      "F1-Score (Train Set): 0.94\n",
      "F1-Score (Test Set): 0.54\n",
      "AUC Train: 0.99\n",
      "AUC Test: 0.84\n"
     ]
    }
   ],
   "source": [
    "from sklearn.model_selection import RandomizedSearchCV\n",
    "from scipy.stats import uniform\n",
    "from sklearn.neighbors import KNeighborsClassifier\n",
    "\n",
    "# List of hyperparameter\n",
    "n_neighbors = list(range(1,30))\n",
    "p=[1,2]\n",
    "algorithm = ['auto', 'ball_tree', 'kd_tree', 'brute']\n",
    "hyperparameters = dict(n_neighbors=n_neighbors, p=p, algorithm=algorithm)\n",
    "\n",
    "# Init model\n",
    "knn = KNeighborsClassifier()\n",
    "model = RandomizedSearchCV(knn, hyperparameters, cv=5, random_state=42, scoring='roc_auc')\n",
    "\n",
    "# Fit Model & Evaluasi\n",
    "model.fit(x_train_SMOTE, y_train_SMOTE)\n",
    "y_pred = model.predict(x_test)\n",
    "eval_classification(model, x_train_SMOTE, y_train_SMOTE, x_test, y_test)"
   ]
  },
  {
   "cell_type": "code",
   "execution_count": 57,
   "id": "5208d150-6571-41cc-9810-2d1a76ac19a0",
   "metadata": {
    "colab": {
     "base_uri": "https://localhost:8080/"
    },
    "executionInfo": {
     "elapsed": 503,
     "status": "ok",
     "timestamp": 1655733620855,
     "user": {
      "displayName": "Marsa Aqil Darmawan",
      "userId": "05244903483681956795"
     },
     "user_tz": -420
    },
    "id": "5208d150-6571-41cc-9810-2d1a76ac19a0",
    "outputId": "542f5e28-95ec-4383-b998-24ac53aea436"
   },
   "outputs": [
    {
     "name": "stdout",
     "output_type": "stream",
     "text": [
      "Best n_neighbors: 5\n",
      "Best p: 1\n",
      "Best algorithm: ball_tree\n"
     ]
    }
   ],
   "source": [
    "print('Best n_neighbors:', model.best_estimator_.get_params()['n_neighbors'])\n",
    "print('Best p:', model.best_estimator_.get_params()['p'])\n",
    "print('Best algorithm:', model.best_estimator_.get_params()['algorithm'])"
   ]
  },
  {
   "cell_type": "markdown",
   "id": "7uV7oVhNsa97",
   "metadata": {
    "id": "7uV7oVhNsa97"
   },
   "source": [
    "#### 4. Random Forest Classifier"
   ]
  },
  {
   "cell_type": "code",
   "execution_count": 58,
   "id": "qSj8AZ42sknJ",
   "metadata": {
    "colab": {
     "base_uri": "https://localhost:8080/"
    },
    "executionInfo": {
     "elapsed": 2628,
     "status": "ok",
     "timestamp": 1655733627879,
     "user": {
      "displayName": "Marsa Aqil Darmawan",
      "userId": "05244903483681956795"
     },
     "user_tz": -420
    },
    "id": "qSj8AZ42sknJ",
    "outputId": "11d373c1-87c4-43f3-f8e6-bed87371815d"
   },
   "outputs": [
    {
     "name": "stdout",
     "output_type": "stream",
     "text": [
      "Accuracy (Train Set): 1.00\n",
      "Accuracy (Test Set): 0.86\n",
      "Precision (Train Set): 1.00\n",
      "Precision (Test Set): 0.51\n",
      "Recall (Train Set): 1.00\n",
      "Recall (Test Set): 0.79\n",
      "F1-Score (Train Set): 1.00\n",
      "F1-Score (Test Set): 0.62\n",
      "AUC Train: 1.00\n",
      "AUC Test: 0.91\n"
     ]
    }
   ],
   "source": [
    "from sklearn.ensemble import RandomForestClassifier\n",
    "model = RandomForestClassifier(random_state=42)\n",
    "model.fit(x_train_SMOTE,y_train_SMOTE)\n",
    "\n",
    "\n",
    "y_pred = model.predict(x_test)\n",
    "eval_classification(model, x_train_SMOTE, y_train_SMOTE, x_test, y_test)"
   ]
  },
  {
   "cell_type": "code",
   "execution_count": 59,
   "id": "nZfrHqLNwkRR",
   "metadata": {
    "colab": {
     "base_uri": "https://localhost:8080/"
    },
    "executionInfo": {
     "elapsed": 37512,
     "status": "ok",
     "timestamp": 1655733665388,
     "user": {
      "displayName": "Marsa Aqil Darmawan",
      "userId": "05244903483681956795"
     },
     "user_tz": -420
    },
    "id": "nZfrHqLNwkRR",
    "outputId": "725bc78b-6e03-476f-f72c-a02293ec67d9"
   },
   "outputs": [
    {
     "name": "stdout",
     "output_type": "stream",
     "text": [
      "Accuracy (Train Set): 1.00\n",
      "Accuracy (Test Set): 0.86\n",
      "Precision (Train Set): 1.00\n",
      "Precision (Test Set): 0.49\n",
      "Recall (Train Set): 1.00\n",
      "Recall (Test Set): 0.79\n",
      "F1-Score (Train Set): 1.00\n",
      "F1-Score (Test Set): 0.61\n",
      "AUC Train: 1.00\n",
      "AUC Test: 0.91\n"
     ]
    }
   ],
   "source": [
    "from sklearn.model_selection import RandomizedSearchCV\n",
    "from scipy.stats import uniform\n",
    "from sklearn.ensemble import RandomForestClassifier\n",
    "\n",
    "# List of hyperparameter\n",
    "n_estimators = list(range(1,200))\n",
    "max_features =['sqrt', 'log2']\n",
    "criterion = ['gini', 'entropy', 'log_loss']\n",
    "hyperparameters = dict(n_estimators=n_estimators, max_features=max_features, criterion=criterion)\n",
    "\n",
    "# Init model\n",
    "rf = RandomForestClassifier()\n",
    "model = RandomizedSearchCV(rf, hyperparameters, cv=5, random_state=42, scoring='roc_auc')\n",
    "\n",
    "# Fit Model & Evaluasi\n",
    "model.fit(x_train_SMOTE, y_train_SMOTE)\n",
    "y_pred = model.predict(x_test)\n",
    "eval_classification(model, x_train_SMOTE, y_train_SMOTE, x_test, y_test)"
   ]
  },
  {
   "cell_type": "code",
   "execution_count": 60,
   "id": "vjK1hwYkzJcr",
   "metadata": {
    "colab": {
     "base_uri": "https://localhost:8080/"
    },
    "executionInfo": {
     "elapsed": 9,
     "status": "ok",
     "timestamp": 1655733665389,
     "user": {
      "displayName": "Marsa Aqil Darmawan",
      "userId": "05244903483681956795"
     },
     "user_tz": -420
    },
    "id": "vjK1hwYkzJcr",
    "outputId": "472e4024-6296-4330-ac5f-03e64bb12749"
   },
   "outputs": [
    {
     "name": "stdout",
     "output_type": "stream",
     "text": [
      "Best n_estimators: 132\n",
      "Best max_features: log2\n",
      "Best criterion: gini\n"
     ]
    }
   ],
   "source": [
    "print('Best n_estimators:', model.best_estimator_.get_params()['n_estimators'])\n",
    "print('Best max_features:', model.best_estimator_.get_params()['max_features'])\n",
    "print('Best criterion:', model.best_estimator_.get_params()['criterion'])"
   ]
  },
  {
   "cell_type": "markdown",
   "id": "-Yc3M1hJzwjU",
   "metadata": {
    "id": "-Yc3M1hJzwjU"
   },
   "source": [
    "#### 5. Bernoulli Naive Bayes"
   ]
  },
  {
   "cell_type": "code",
   "execution_count": 61,
   "id": "e9KcLGNOzyic",
   "metadata": {
    "colab": {
     "base_uri": "https://localhost:8080/"
    },
    "executionInfo": {
     "elapsed": 14,
     "status": "ok",
     "timestamp": 1655733665716,
     "user": {
      "displayName": "Marsa Aqil Darmawan",
      "userId": "05244903483681956795"
     },
     "user_tz": -420
    },
    "id": "e9KcLGNOzyic",
    "outputId": "cd65bc02-7916-422d-b115-f1702a457694"
   },
   "outputs": [
    {
     "name": "stdout",
     "output_type": "stream",
     "text": [
      "Accuracy (Train Set): 0.82\n",
      "Accuracy (Test Set): 0.79\n",
      "Precision (Train Set): 0.80\n",
      "Precision (Test Set): 0.39\n",
      "Recall (Train Set): 0.83\n",
      "Recall (Test Set): 0.81\n",
      "F1-Score (Train Set): 0.82\n",
      "F1-Score (Test Set): 0.53\n",
      "AUC Train: 0.88\n",
      "AUC Test: 0.86\n"
     ]
    }
   ],
   "source": [
    "from sklearn.naive_bayes import BernoulliNB\n",
    "model = BernoulliNB()\n",
    "model.fit(x_train_SMOTE,y_train_SMOTE)\n",
    "\n",
    "\n",
    "y_pred = model.predict(x_test)\n",
    "eval_classification(model, x_train_SMOTE, y_train_SMOTE, x_test, y_test)"
   ]
  },
  {
   "cell_type": "code",
   "execution_count": 62,
   "id": "4Pmkz_hW0Ubl",
   "metadata": {
    "colab": {
     "base_uri": "https://localhost:8080/"
    },
    "executionInfo": {
     "elapsed": 1055,
     "status": "ok",
     "timestamp": 1655733667412,
     "user": {
      "displayName": "Marsa Aqil Darmawan",
      "userId": "05244903483681956795"
     },
     "user_tz": -420
    },
    "id": "4Pmkz_hW0Ubl",
    "outputId": "389d0eed-8a77-41d9-a634-fa446957b089"
   },
   "outputs": [
    {
     "name": "stdout",
     "output_type": "stream",
     "text": [
      "Accuracy (Train Set): 0.82\n",
      "Accuracy (Test Set): 0.79\n",
      "Precision (Train Set): 0.81\n",
      "Precision (Test Set): 0.39\n",
      "Recall (Train Set): 0.84\n",
      "Recall (Test Set): 0.81\n",
      "F1-Score (Train Set): 0.82\n",
      "F1-Score (Test Set): 0.53\n",
      "AUC Train: 0.88\n",
      "AUC Test: 0.86\n"
     ]
    }
   ],
   "source": [
    "from sklearn.model_selection import RandomizedSearchCV\n",
    "from scipy.stats import uniform\n",
    "from sklearn.naive_bayes import BernoulliNB\n",
    "\n",
    "# List of hyperparameter\n",
    "alpha = [0.002, 0.01, 0.3, 0.5, 2,3,5, 1.5]\n",
    "fit_prior = [True, False]\n",
    "binarize = [0.01, 0.02, 0.03, 0.0]\n",
    "hyperparameters = dict(fit_prior=fit_prior, alpha=alpha, binarize=binarize)\n",
    "\n",
    "# Init model\n",
    "bnb = BernoulliNB()\n",
    "model = RandomizedSearchCV(bnb, hyperparameters, cv=5, random_state=42, scoring='roc_auc')\n",
    "\n",
    "# Fit Model & Evaluasi\n",
    "model.fit(x_train_SMOTE, y_train_SMOTE)\n",
    "y_pred = model.predict(x_test)\n",
    "eval_classification(model, x_train_SMOTE, y_train_SMOTE, x_test, y_test)"
   ]
  },
  {
   "cell_type": "code",
   "execution_count": 63,
   "id": "1uZcDH4H1aeL",
   "metadata": {
    "colab": {
     "base_uri": "https://localhost:8080/"
    },
    "executionInfo": {
     "elapsed": 17,
     "status": "ok",
     "timestamp": 1655733667413,
     "user": {
      "displayName": "Marsa Aqil Darmawan",
      "userId": "05244903483681956795"
     },
     "user_tz": -420
    },
    "id": "1uZcDH4H1aeL",
    "outputId": "5b4e3bb8-486c-426c-8608-bd9af24ca00b"
   },
   "outputs": [
    {
     "name": "stdout",
     "output_type": "stream",
     "text": [
      "Best fit_prior: True\n",
      "Best alpha: 2\n",
      "Best binarize: 0.03\n"
     ]
    }
   ],
   "source": [
    "print('Best fit_prior:', model.best_estimator_.get_params()['fit_prior'])\n",
    "print('Best alpha:', model.best_estimator_.get_params()['alpha'])\n",
    "print('Best binarize:', model.best_estimator_.get_params()['binarize'])"
   ]
  },
  {
   "cell_type": "markdown",
   "id": "1a03d347",
   "metadata": {},
   "source": [
    "### Feature Importance"
   ]
  },
  {
   "cell_type": "code",
   "execution_count": 68,
   "id": "497c82ac",
   "metadata": {},
   "outputs": [
    {
     "data": {
      "text/plain": [
       "Text(0.5, 1.0, 'Feature Importance Score')"
      ]
     },
     "execution_count": 68,
     "metadata": {},
     "output_type": "execute_result"
    },
    {
     "data": {
      "image/png": "[encoded data removed]",
      "text/plain": [
       "<Figure size 720x576 with 1 Axes>"
      ]
     },
     "metadata": {
      "needs_background": "light"
     },
     "output_type": "display_data"
    }
   ],
   "source": [
    "feat_importances = pd.Series(dtc_rs.best_estimator_.feature_importances_, index=x_train_SMOTE.columns)\n",
    "ax = feat_importances.nlargest(25).plot(kind='barh', figsize=(10, 8))\n",
    "ax.invert_yaxis()\n",
    "\n",
    "plt.xlabel('Score')\n",
    "plt.ylabel('Feature')\n",
    "plt.title('Feature Importance Score')"
   ]
  }
 ],
 "metadata": {
  "colab": {
   "collapsed_sections": [],
   "name": "Stage_3_FS-EDA.ipynb",
   "provenance": []
  },
  "kernelspec": {
   "display_name": "Python 3 (ipykernel)",
   "language": "python",
   "name": "python3"
  },
  "language_info": {
   "codemirror_mode": {
    "name": "ipython",
    "version": 3
   },
   "file_extension": ".py",
   "mimetype": "text/x-python",
   "name": "python",
   "nbconvert_exporter": "python",
   "pygments_lexer": "ipython3",
   "version": "3.8.0"
  }
 },
 "nbformat": 4,
 "nbformat_minor": 5
}
